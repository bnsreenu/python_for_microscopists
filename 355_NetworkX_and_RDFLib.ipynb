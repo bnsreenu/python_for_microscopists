{
  "nbformat": 4,
  "nbformat_minor": 0,
  "metadata": {
    "colab": {
      "provenance": [],
      "authorship_tag": "ABX9TyNAwgeTovdaSb8C63uqnJZx",
      "include_colab_link": true
    },
    "kernelspec": {
      "name": "python3",
      "display_name": "Python 3"
    },
    "language_info": {
      "name": "python"
    }
  },
  "cells": [
    {
      "cell_type": "markdown",
      "metadata": {
        "id": "view-in-github",
        "colab_type": "text"
      },
      "source": [
        "<a href=\"https://colab.research.google.com/github/bnsreenu/python_for_microscopists/blob/master/355_NetworkX_and_RDFLib.ipynb\" target=\"_parent\"><img src=\"https://colab.research.google.com/assets/colab-badge.svg\" alt=\"Open In Colab\"/></a>"
      ]
    },
    {
      "cell_type": "markdown",
      "source": [
        "https://youtu.be/8eDWmLp_TKA"
      ],
      "metadata": {
        "id": "j0YEywXWupe5"
      }
    },
    {
      "cell_type": "markdown",
      "source": [
        "\n",
        "\n",
        "\n",
        "Different Ways to Represent Knowledge Graphs:\n",
        "1. NetworkX approach: Simple Python dictionaries and graphs\n",
        "2. RDFLib approach: Using Resource Description Framework (RDF) triples\n",
        "   - Subject (node) -> Predicate (relationship) -> Object (node/value)\n",
        "\n",
        "Let's implement both approaches for a simple Python learning path.\n"
      ],
      "metadata": {
        "id": "hdQze5fb0oi5"
      }
    },
    {
      "cell_type": "code",
      "source": [
        "!pip install networkx rdflib"
      ],
      "metadata": {
        "colab": {
          "base_uri": "https://localhost:8080/"
        },
        "id": "4u6uasXHictO",
        "outputId": "4e56842e-da76-4f32-b3e1-55113e7565f7"
      },
      "execution_count": null,
      "outputs": [
        {
          "output_type": "stream",
          "name": "stdout",
          "text": [
            "Requirement already satisfied: networkx in /usr/local/lib/python3.11/dist-packages (3.4.2)\n",
            "Collecting rdflib\n",
            "  Downloading rdflib-7.1.3-py3-none-any.whl.metadata (11 kB)\n",
            "Requirement already satisfied: pyparsing<4,>=2.1.0 in /usr/local/lib/python3.11/dist-packages (from rdflib) (3.2.1)\n",
            "Downloading rdflib-7.1.3-py3-none-any.whl (564 kB)\n",
            "\u001b[2K   \u001b[90m━━━━━━━━━━━━━━━━━━━━━━━━━━━━━━━━━━━━━━━━\u001b[0m \u001b[32m564.9/564.9 kB\u001b[0m \u001b[31m7.8 MB/s\u001b[0m eta \u001b[36m0:00:00\u001b[0m\n",
            "\u001b[?25hInstalling collected packages: rdflib\n",
            "Successfully installed rdflib-7.1.3\n"
          ]
        }
      ]
    },
    {
      "cell_type": "markdown",
      "source": [
        "Storing Metadata: NetworkX vs RDF Triples\n",
        "\n",
        "**NetworkX Approach:**\n",
        "\n",
        "Uses Python dictionaries (key-value pairs) <br>\n",
        "Example structure: <br>\n",
        "\n",
        "topics = {\n",
        "    'python_basics': {\n",
        "        'difficulty': 'beginner',\n",
        "        'description': 'Basic Python concepts'\n",
        "    }\n",
        "}\n",
        "\n",
        "<br>\n",
        "\n",
        "\n",
        "*   Simple and intuitive for Python developers\n",
        "*   Flexible: can add or modify attributes easily\n",
        "*   Less formal structure: you can add any kind of data\n",
        "*   Limited to Python's data types\n",
        "\n",
        "<p><br>\n",
        "\n",
        "\n",
        "**RDF Triples Approach:**\n",
        "\n",
        "Uses Subject-Predicate-Object format <br>\n",
        "Example structure: <br>\n",
        "\n",
        "(subject, predicate, object) <p>\n",
        "Example:<br>\n",
        "(TOPIC.python_basics, PROP.difficulty, \"beginner\") <br>\n",
        "(TOPIC.python_basics, PROP.description, \"Basic Python concepts\") <br>\n",
        "\n",
        "\n",
        "\n",
        "*   More formal and standardized\n",
        "*   Better for sharing data across different systems\n",
        "*   Can link to other knowledge bases on the web\n",
        "*   Supports semantic reasoning\n",
        "*   More complex to understand and implement\n",
        "\n",
        "<p><br>\n"
      ],
      "metadata": {
        "id": "ZeGk7M_63rQp"
      }
    },
    {
      "cell_type": "code",
      "source": [
        "import networkx as nx\n",
        "import matplotlib.pyplot as plt\n",
        "\n",
        "# Approach 1: Using NetworkX\n",
        "print(\"Approach 1: Using NetworkX\")\n",
        "\n",
        "# Create a directed graph\n",
        "G = nx.DiGraph()\n",
        "\n",
        "# Define nodes (topics) with metadata\n",
        "topics = {\n",
        "    'python_basics': {                                #topic\n",
        "        'difficulty': 'beginner',                       #metadata\n",
        "        'description': 'Basic Python concepts'          #metadata\n",
        "    },\n",
        "    'data_structures': {\n",
        "        'difficulty': 'intermediate',\n",
        "        'description': 'Python data structures'\n",
        "    },\n",
        "    'advanced_python': {\n",
        "        'difficulty': 'advanced',\n",
        "        'description': 'Advanced Python concepts'\n",
        "    },\n",
        "    'machine_learning': {\n",
        "        'difficulty': 'advanced',\n",
        "        'description': 'Machine Learning with Python'\n",
        "    },\n",
        "    'bioimage_analysis': {\n",
        "        'difficulty': 'advanced',\n",
        "        'description': 'Bioimage Analysis with Python'\n",
        "    }\n",
        "}\n",
        "\n",
        "# Add nodes to graph, along with metadata. e.g., create a node 'python_basics'\n",
        "# with attributes {'difficulty': 'beginner', 'description': 'Basic Python concepts'}\n",
        "\n",
        "for topic, metadata in topics.items():\n",
        "    G.add_node(topic, **metadata)\n",
        "\n",
        "# Add edges (relationships) with weights\n",
        "relationships = [\n",
        "    ('python_basics', 'data_structures', {'weight': 1.0}),\n",
        "    ('data_structures', 'advanced_python', {'weight': 0.8}),\n",
        "    ('advanced_python', 'machine_learning', {'weight': 0.7}),\n",
        "    ('advanced_python', 'bioimage_analysis', {'weight': 0.7})\n",
        "]\n",
        "\n",
        "G.add_edges_from(relationships)\n",
        "\n",
        "# Query: Find the shortest path from python_basics to bioimage_analysis\n",
        "shortest_path = nx.shortest_path(G, source='python_basics', target='bioimage_analysis')\n",
        "print(\"Shortest Path:\", \" -> \".join(shortest_path))\n",
        "print(\" \")\n",
        "\n",
        "# Visualize using Matplotlib\n",
        "plt.figure(figsize=(12, 8))\n",
        "pos = nx.spring_layout(G)\n",
        "\n",
        "# Draw nodes\n",
        "nx.draw_networkx_nodes(G, pos, node_color='lightblue', node_size=2000)\n",
        "nx.draw_networkx_labels(G, pos)\n",
        "\n",
        "# Draw edges with arrows\n",
        "nx.draw_networkx_edges(G, pos, edge_color='gray', arrows=True, arrowsize=40)\n",
        "\n",
        "\n",
        "plt.title(\"Python Learning Path (Matplotlib)\")\n",
        "plt.axis('off')\n",
        "plt.show()\n"
      ],
      "metadata": {
        "colab": {
          "base_uri": "https://localhost:8080/",
          "height": 727
        },
        "id": "KYzgk00oiHck",
        "outputId": "6d525862-ceb8-4333-b11f-df2e55bcbfed"
      },
      "execution_count": null,
      "outputs": [
        {
          "output_type": "stream",
          "name": "stdout",
          "text": [
            "Approach 1: Using NetworkX\n",
            "Shortest Path: python_basics -> data_structures -> advanced_python -> bioimage_analysis\n",
            " \n"
          ]
        },
        {
          "output_type": "display_data",
          "data": {
            "text/plain": [
              "<Figure size 1200x800 with 1 Axes>"
            ],
            "image/png": "[encoded data removed]"
          },
          "metadata": {}
        }
      ]
    },
    {
      "cell_type": "code",
      "source": [
        "from rdflib import Graph, Namespace, URIRef, Literal\n",
        "from rdflib.namespace import RDF, RDFS\n",
        "\n",
        "# Create an RDF graph\n",
        "g = Graph()\n",
        "\n",
        "# Define a namespace for our ontology\n",
        "EX = Namespace(\"http://example.org/\")\n",
        "\n",
        "# Add nodes (topics) as RDF triples\n",
        "topics = {\n",
        "    'python_basics': {\n",
        "        'difficulty': 'beginner',\n",
        "        'description': 'Basic Python concepts'\n",
        "    },\n",
        "    'data_structures': {\n",
        "        'difficulty': 'intermediate',\n",
        "        'description': 'Python data structures'\n",
        "    },\n",
        "    'advanced_python': {\n",
        "        'difficulty': 'advanced',\n",
        "        'description': 'Advanced Python concepts'\n",
        "    },\n",
        "    'machine_learning': {\n",
        "        'difficulty': 'advanced',\n",
        "        'description': 'Machine Learning with Python'\n",
        "    },\n",
        "    'bioimage_analysis': {\n",
        "        'difficulty': 'advanced',\n",
        "        'description': 'Bioimage Analysis with Python'\n",
        "    }\n",
        "}\n",
        "\n",
        "# Add topics and metadata to the RDF graph\n",
        "# Add topics and metadata to the RDF graph\n",
        "# Each g.add() call creates an RDF triple (subject, predicate, object):\n",
        "# Subject: EX[topic] (the resource being described, e.g., python_basics)\n",
        "# Predicate: RDFS.label, EX.difficulty, EX.description (the property or relationship)\n",
        "# Object: Literal(topic), Literal(metadata['difficulty']), Literal(metadata['description']) (the value)\n",
        "# Note: A literal can be any data value such as a string, a number, or a date (as opposed to URI)\n",
        "\n",
        "for topic, metadata in topics.items():\n",
        "    topic_uri = EX[topic]\n",
        "    print(topic_uri)      # http://example.org/python_basics etc.\n",
        "    g.add((topic_uri, RDFS.label, Literal(topic)))                        # RDFS.label is a standard property in RDF Schema\n",
        "    g.add((topic_uri, EX.difficulty, Literal(metadata['difficulty'])))    # EX.difficulty is a custom property that we defined for our specific use case\n",
        "    g.add((topic_uri, EX.description, Literal(metadata['description'])))  # EX.description is also a custom property that we defined for our specific use case\n",
        "\n",
        "# Add edges (relationships) with weights as RDF triples\n",
        "relationships_with_weights = [\n",
        "    ('python_basics', 'data_structures', 1.0),\n",
        "    ('data_structures', 'advanced_python', 0.8),\n",
        "    ('advanced_python', 'machine_learning', 0.7),\n",
        "    ('advanced_python', 'bioimage_analysis', 0.7)\n",
        "]\n",
        "\n",
        "# Add relationships and weights\n",
        "for src, tgt, weight in relationships_with_weights:\n",
        "    g.add((EX[src], EX.requires, EX[tgt]))\n",
        "    g.add((EX[src], EX[f'weight_{tgt}'], Literal(weight)))\n",
        "\n",
        "\n",
        "# Query: Retrieve the weight for each relationship of python_basics\n",
        "query_weights = \"\"\"\n",
        "PREFIX ex: <http://example.org/>\n",
        "SELECT ?topic ?weight WHERE {\n",
        "    ex:python_basics ex:requires ?topic .\n",
        "    ex:python_basics ex:weight_data_structures ?weight .\n",
        "}\n",
        "\"\"\"\n",
        "# Execute the query\n",
        "print(\"-\"*40)\n",
        "print(\"Weights for topics that python_basics requires:\")\n",
        "for row in g.query(query_weights):\n",
        "    print(f\"Topic: {row.topic}, Weight: {row.weight}\")\n",
        "\n",
        "# Serialize and print the RDF graph in Turtle format for visualization\n",
        "print(\"\\nRDF Graph (Turtle Format):\")\n",
        "print(g.serialize(format=\"turtle\"))\n"
      ],
      "metadata": {
        "colab": {
          "base_uri": "https://localhost:8080/"
        },
        "id": "YpolNXHjiHZo",
        "outputId": "8b29e7ad-203f-4b4c-b69d-de80bf2c322d"
      },
      "execution_count": null,
      "outputs": [
        {
          "output_type": "stream",
          "name": "stdout",
          "text": [
            "http://example.org/python_basics\n",
            "http://example.org/data_structures\n",
            "http://example.org/advanced_python\n",
            "http://example.org/machine_learning\n",
            "http://example.org/bioimage_analysis\n",
            "----------------------------------------\n",
            "Weights for topics that python_basics requires:\n",
            "Topic: http://example.org/data_structures, Weight: 1.0\n",
            "\n",
            "RDF Graph (Turtle Format):\n",
            "@prefix ns1: <http://example.org/> .\n",
            "@prefix rdfs: <http://www.w3.org/2000/01/rdf-schema#> .\n",
            "@prefix xsd: <http://www.w3.org/2001/XMLSchema#> .\n",
            "\n",
            "ns1:python_basics rdfs:label \"python_basics\" ;\n",
            "    ns1:description \"Basic Python concepts\" ;\n",
            "    ns1:difficulty \"beginner\" ;\n",
            "    ns1:requires ns1:data_structures ;\n",
            "    ns1:weight_data_structures 1e+00 .\n",
            "\n",
            "ns1:advanced_python rdfs:label \"advanced_python\" ;\n",
            "    ns1:description \"Advanced Python concepts\" ;\n",
            "    ns1:difficulty \"advanced\" ;\n",
            "    ns1:requires ns1:bioimage_analysis,\n",
            "        ns1:machine_learning ;\n",
            "    ns1:weight_bioimage_analysis 7e-01 ;\n",
            "    ns1:weight_machine_learning 7e-01 .\n",
            "\n",
            "ns1:bioimage_analysis rdfs:label \"bioimage_analysis\" ;\n",
            "    ns1:description \"Bioimage Analysis with Python\" ;\n",
            "    ns1:difficulty \"advanced\" .\n",
            "\n",
            "ns1:data_structures rdfs:label \"data_structures\" ;\n",
            "    ns1:description \"Python data structures\" ;\n",
            "    ns1:difficulty \"intermediate\" ;\n",
            "    ns1:requires ns1:advanced_python ;\n",
            "    ns1:weight_advanced_python 8e-01 .\n",
            "\n",
            "ns1:machine_learning rdfs:label \"machine_learning\" ;\n",
            "    ns1:description \"Machine Learning with Python\" ;\n",
            "    ns1:difficulty \"advanced\" .\n",
            "\n",
            "\n"
          ]
        }
      ]
    },
    {
      "cell_type": "markdown",
      "source": [
        "The Turtle format is used to represent RDF triples. This snippet shows metadata about the topic python_basics, its description, difficulty level, its prerequisite data_structures, and an associated weight. The prefixes make the graph more readable by shortening the URIs.\n",
        "\n",
        "<p>\n",
        "\n",
        "**Prefixes:** The @prefix lines define short aliases for commonly used namespaces, allowing the use of short labels instead of long URLs. For example, ns1: is an alias for the namespace <http://example.org/>, and rdfs: is an alias for the RDF Schema standard namespace.\n",
        "<p>\n",
        "\n",
        "**RDF Triples:** Each line after the prefix definitions represents an RDF triple, which is a statement about a resource. A triple consists of:\n",
        "<p>\n",
        "\n",
        "**Subject:** What the statement is about (e.g., ns1:python_basics). <br>\n",
        "**Predicate:** The relationship or property (e.g., rdfs:label, ns1:description).<br>\n",
        "**Object:** The value or target of the relationship (e.g., \"python_basics\", \"Basic Python concepts\", or ns1:data_structures)."
      ],
      "metadata": {
        "id": "3kd_1fqenxfc"
      }
    }
  ]
}