{
  "nbformat": 4,
  "nbformat_minor": 0,
  "metadata": {
    "colab": {
      "provenance": [],
      "authorship_tag": "ABX9TyP8IC6d8ExJErBFhdhZKb/s",
      "include_colab_link": true
    },
    "kernelspec": {
      "name": "python3",
      "display_name": "Python 3"
    },
    "language_info": {
      "name": "python"
    }
  },
  "cells": [
    {
      "cell_type": "markdown",
      "metadata": {
        "id": "view-in-github",
        "colab_type": "text"
      },
      "source": [
        "<a href=\"https://colab.research.google.com/github/bnsreenu/python_for_microscopists/blob/master/360_Descriptive_Statistics_and_Data_Visualization.ipynb\" target=\"_parent\"><img src=\"https://colab.research.google.com/assets/colab-badge.svg\" alt=\"Open In Colab\"/></a>"
      ]
    },
    {
      "cell_type": "markdown",
      "source": [
        "https://youtu.be/HGXp30b3Uj8"
      ],
      "metadata": {
        "id": "Q1w6kcOUW-Rt"
      }
    },
    {
      "cell_type": "markdown",
      "source": [
        "\n",
        "# Descriptive Statistics and Data Visualization\n",
        "\n",
        "Part 2 of the Statistical Analysis in Python Tutorial Series\n"
      ],
      "metadata": {
        "id": "AgVQqqUy5uH0"
      }
    },
    {
      "cell_type": "code",
      "source": [
        "# Import necessary libraries\n",
        "import pandas as pd\n",
        "import numpy as np\n",
        "import matplotlib.pyplot as plt\n",
        "import seaborn as sns\n",
        "from scipy import stats"
      ],
      "metadata": {
        "id": "CWEArNBC5yjB"
      },
      "execution_count": null,
      "outputs": []
    },
    {
      "cell_type": "code",
      "source": [
        "# Set visualization style consistent with your first tutorial\n",
        "sns.set(style=\"whitegrid\")\n",
        "plt.rcParams['figure.figsize'] = (12, 8)\n",
        "plt.rcParams['font.size'] = 12"
      ],
      "metadata": {
        "id": "8ap5XFHy50Hg"
      },
      "execution_count": null,
      "outputs": []
    },
    {
      "cell_type": "code",
      "source": [
        "# Load the UCI Breast Cancer Wisconsin dataset\n",
        "# This is the Wisconsin Breast Cancer Diagnostic dataset\n",
        "url = \"https://archive.ics.uci.edu/ml/machine-learning-databases/breast-cancer-wisconsin/wdbc.data\"\n",
        "column_names = ['ID', 'Diagnosis'] + [\n",
        "    # Mean values\n",
        "    'radius_mean', 'texture_mean', 'perimeter_mean', 'area_mean',\n",
        "    'smoothness_mean', 'compactness_mean', 'concavity_mean', 'concave_points_mean',\n",
        "    'symmetry_mean', 'fractal_dimension_mean',\n",
        "    # Standard error values\n",
        "    'radius_se', 'texture_se', 'perimeter_se', 'area_se',\n",
        "    'smoothness_se', 'compactness_se', 'concavity_se', 'concave_points_se',\n",
        "    'symmetry_se', 'fractal_dimension_se',\n",
        "    # Worst values\n",
        "    'radius_worst', 'texture_worst', 'perimeter_worst', 'area_worst',\n",
        "    'smoothness_worst', 'compactness_worst', 'concavity_worst', 'concave_points_worst',\n",
        "    'symmetry_worst', 'fractal_dimension_worst'\n",
        "]\n",
        "cancer_data = pd.read_csv(url, names=column_names, na_values='?')\n",
        "\n",
        "# Display the first few rows of the dataset\n",
        "print(\"First 5 rows of the dataset:\")\n",
        "print(cancer_data.head())\n",
        "\n",
        "# Basic dataset information\n",
        "print(\"\\nDataset Information:\")\n",
        "cancer_data.info()"
      ],
      "metadata": {
        "id": "x_Dax95J54_V"
      },
      "execution_count": null,
      "outputs": []
    },
    {
      "cell_type": "code",
      "source": [
        "# Check for missing values\n",
        "print(\"\\nMissing values per column:\")\n",
        "print(cancer_data.isnull().sum())"
      ],
      "metadata": {
        "id": "zd3M1MNJ57tg"
      },
      "execution_count": null,
      "outputs": []
    },
    {
      "cell_type": "markdown",
      "source": [
        "\n",
        "# Measures of Central Tendency\n"
      ],
      "metadata": {
        "id": "JGWtgKZK59Ir"
      }
    },
    {
      "cell_type": "code",
      "source": [
        "# Select a few key numerical columns for demonstration\n",
        "numerical_features = ['radius_mean', 'texture_mean', 'perimeter_mean', 'area_mean', 'smoothness_mean']\n",
        "\n",
        "# function to display all measures of central tendency for a column\n",
        "def central_tendency_stats(data, column):\n",
        "    \"\"\"Calculate and display all measures of central tendency for a column.\"\"\"\n",
        "    values = data[column]\n",
        "\n",
        "    # Calculate different measures\n",
        "    mean_val = values.mean()\n",
        "    median_val = values.median()\n",
        "    mode_val = values.mode()[0]  # Mode can have multiple values, take the first one\n",
        "\n",
        "    # Weighted mean example (using radius_mean as weights for demonstration)\n",
        "    # Compute weighted average of each column values.\n",
        "    # For all columns except, radius_mean, use values from radius_mean as weights. FOr radius_mean, use area_mean as weights (to avoid self-weighting)\n",
        "    if column != 'radius_mean':\n",
        "        weights = data['radius_mean']\n",
        "        weighted_mean = np.average(values, weights=weights)\n",
        "    else:\n",
        "        weighted_mean = np.average(values, weights=data['area_mean'])\n",
        "\n",
        "    # Display results\n",
        "    print(f\"Statistics for {column}:\")\n",
        "    print(f\"Mean: {mean_val:.4f}\")\n",
        "    print(f\"Median: {median_val:.4f}\")\n",
        "    print(f\"Mode: {mode_val:.4f}\")\n",
        "    print(f\"Weighted Mean: {weighted_mean:.4f}\")\n",
        "\n",
        "    # Visual representation of mean, median and mode\n",
        "    plt.figure(figsize=(10, 6))\n",
        "    sns.histplot(values, kde=True)\n",
        "    plt.axvline(mean_val, color='r', linestyle='--', label=f'Mean: {mean_val:.2f}')\n",
        "    plt.axvline(median_val, color='g', linestyle='-.', label=f'Median: {median_val:.2f}')\n",
        "    plt.axvline(mode_val, color='b', linestyle=':', label=f'Mode: {mode_val:.2f}')\n",
        "    plt.title(f'Distribution of {column} with Central Tendency Measures')\n",
        "    plt.legend()\n",
        "    plt.show()\n",
        "\n",
        "    # Explanation\n",
        "    print(\"\\nInterpretation:\")\n",
        "    if abs(mean_val - median_val) < 0.01 * abs(mean_val):\n",
        "        print(\"The mean and median are very close, suggesting a relatively symmetric distribution.\")\n",
        "    elif mean_val > median_val:\n",
        "        print(\"The mean is greater than the median, suggesting a right-skewed (positively skewed) distribution.\")\n",
        "        print(\"This means there are some larger values pulling the mean upward.\")\n",
        "    else:\n",
        "        print(\"The median is greater than the mean, suggesting a left-skewed (negatively skewed) distribution.\")\n",
        "        print(\"This means there are some smaller values pulling the mean downward.\")\n",
        "\n",
        "    if abs(mode_val - median_val) < 0.01 * abs(median_val):\n",
        "        print(\"The mode is close to the median, which is typical in many distributions.\")\n",
        "    print(\"\\n\")\n",
        "\n",
        "# Apply the function to each selected column\n",
        "for feature in numerical_features:\n",
        "    central_tendency_stats(cancer_data, feature)"
      ],
      "metadata": {
        "id": "tZCvmKZf6Gk0"
      },
      "execution_count": null,
      "outputs": []
    },
    {
      "cell_type": "code",
      "source": [
        "# Create a comparison plot of means for malignant vs benign tumors\n",
        "def compare_means_by_diagnosis(data, features):\n",
        "    \"\"\"Compare means of features between malignant and benign tumors.\"\"\"\n",
        "    # Convert diagnosis to binary (M = Malignant, B = Benign)\n",
        "    data['Diagnosis_Binary'] = data['Diagnosis'].map({'M': 'Malignant', 'B': 'Benign'})\n",
        "\n",
        "    # Calculate means by diagnosis\n",
        "    grouped_means = data.groupby('Diagnosis_Binary')[features].mean()\n",
        "\n",
        "    # Plot\n",
        "    plt.figure(figsize=(12, 6))\n",
        "    grouped_means.T.plot(kind='bar', rot=45)\n",
        "    plt.title('Comparison of Feature Means by Diagnosis')\n",
        "    plt.ylabel('Mean Value')\n",
        "    plt.xlabel('Features')\n",
        "    plt.xticks(rotation=45, ha='right')\n",
        "    plt.tight_layout()\n",
        "    plt.legend(title='Diagnosis')\n",
        "    plt.show()\n",
        "\n",
        "    # Return the grouped means for further analysis\n",
        "    return grouped_means\n",
        "\n",
        "# Compare means for selected features\n",
        "group_means = compare_means_by_diagnosis(cancer_data, numerical_features)\n",
        "print(\"Mean values by diagnosis group:\")\n",
        "print(group_means)\n",
        "print(\"\\nObservation: Note the differences in mean values between benign and malignant tumors.\")\n",
        "print(\"These differences might be statistically significant and useful for classification.\")"
      ],
      "metadata": {
        "id": "F9iLsshM6J0C"
      },
      "execution_count": null,
      "outputs": []
    },
    {
      "cell_type": "markdown",
      "source": [
        "# Measures of Dispersion"
      ],
      "metadata": {
        "id": "kUla5dLN6LYU"
      }
    },
    {
      "cell_type": "code",
      "source": [
        "# Create a function to display all measures of dispersion for a column\n",
        "def dispersion_stats(data, column):\n",
        "    \"\"\"Calculate and display all measures of dispersion for a column.\"\"\"\n",
        "    values = data[column]\n",
        "\n",
        "    # Calculate different measures\n",
        "    range_val = values.max() - values.min()\n",
        "    variance = values.var()\n",
        "    std_dev = values.std()\n",
        "\n",
        "    # Calculate quartiles and IQR\n",
        "    q1 = values.quantile(0.25)\n",
        "    q3 = values.quantile(0.75)\n",
        "    iqr = q3 - q1\n",
        "\n",
        "    # Calculate coefficient of variation (CV)\n",
        "    cv = (std_dev / values.mean()) * 100\n",
        "\n",
        "    # Display results\n",
        "    print(f\"Dispersion Statistics for {column}:\")\n",
        "    print(f\"Range: {range_val:.4f}\")\n",
        "    print(f\"Variance: {variance:.4f}\")\n",
        "    print(f\"Standard Deviation: {std_dev:.4f}\")\n",
        "    print(f\"Interquartile Range (IQR): {iqr:.4f}\")\n",
        "    print(f\"Coefficient of Variation: {cv:.2f}%\")\n",
        "\n",
        "    # Visual representation of dispersion\n",
        "    plt.figure(figsize=(14, 6))\n",
        "\n",
        "    # Create two subplots\n",
        "    plt.subplot(1, 2, 1)\n",
        "    sns.boxplot(y=values)\n",
        "    plt.title(f'Boxplot of {column}')\n",
        "    plt.ylabel('Value')\n",
        "\n",
        "    plt.subplot(1, 2, 2)\n",
        "    sns.histplot(values, kde=True)\n",
        "    plt.axvline(values.mean(), color='r', linestyle='--',\n",
        "                label=f'Mean: {values.mean():.2f}')\n",
        "    plt.axvline(values.mean() + std_dev, color='g', linestyle='-.',\n",
        "               label=f'Mean + SD: {values.mean() + std_dev:.2f}')\n",
        "    plt.axvline(values.mean() - std_dev, color='g', linestyle='-.',\n",
        "               label=f'Mean - SD: {values.mean() - std_dev:.2f}')\n",
        "    plt.title(f'Distribution of {column} with Standard Deviation')\n",
        "    plt.legend()\n",
        "\n",
        "    plt.tight_layout()\n",
        "    plt.show()\n",
        "\n",
        "    # Explanation\n",
        "    print(\"\\nInterpretation:\")\n",
        "    print(f\"Range: The difference between the maximum and minimum values is {range_val:.4f}.\")\n",
        "    print(f\"Standard Deviation: On average, values deviate from the mean by approximately {std_dev:.4f}.\")\n",
        "    print(f\"IQR: The middle 50% of the data falls within a range of {iqr:.4f}.\")\n",
        "\n",
        "    # Interpretation of Coefficient of Variation\n",
        "    if cv < 10:\n",
        "        print(\"Coefficient of Variation: The data shows low variability relative to the mean.\")\n",
        "    elif cv < 30:\n",
        "        print(\"Coefficient of Variation: The data shows moderate variability relative to the mean.\")\n",
        "    else:\n",
        "        print(\"Coefficient of Variation: The data shows high variability relative to the mean.\")\n",
        "    print(\"\\n\")\n",
        "\n",
        "# Apply the function to each selected column\n",
        "for feature in numerical_features:\n",
        "    dispersion_stats(cancer_data, feature)"
      ],
      "metadata": {
        "id": "Ij6QNvbq6RMj"
      },
      "execution_count": null,
      "outputs": []
    },
    {
      "cell_type": "code",
      "source": [
        "# Compare dispersion by diagnosis\n",
        "def compare_dispersion_by_diagnosis(data, features):\n",
        "    \"\"\"Compare dispersion measures between malignant and benign tumors.\"\"\"\n",
        "    # Convert diagnosis to binary\n",
        "    data['Diagnosis_Binary'] = data['Diagnosis'].map({'M': 'Malignant', 'B': 'Benign'})\n",
        "\n",
        "    # Calculate standard deviations by diagnosis\n",
        "    grouped_std = data.groupby('Diagnosis_Binary')[features].std()\n",
        "\n",
        "    # Calculate coefficient of variation\n",
        "    grouped_mean = data.groupby('Diagnosis_Binary')[features].mean()\n",
        "    grouped_cv = (grouped_std / grouped_mean) * 100\n",
        "\n",
        "    # Plot standard deviations\n",
        "    # Plot standard deviations and CV on separate subplots\n",
        "    fig, axes = plt.subplots(nrows=2, ncols=1, figsize=(12, 10))\n",
        "\n",
        "    grouped_std.T.plot(kind='bar', rot=45, ax=axes[0])\n",
        "    axes[0].set_title('Comparison of Standard Deviations by Diagnosis')\n",
        "    axes[0].set_ylabel('Standard Deviation')\n",
        "    axes[0].tick_params(axis='x', rotation=45)\n",
        "    axes[0].legend(title='Diagnosis')\n",
        "\n",
        "    grouped_cv.T.plot(kind='bar', rot=45, ax=axes[1])\n",
        "    axes[1].set_title('Comparison of Coefficient of Variation by Diagnosis')\n",
        "    axes[1].set_ylabel('CV (%)')\n",
        "    axes[1].set_xlabel('Features')\n",
        "    axes[1].tick_params(axis='x', rotation=45)\n",
        "    axes[1].legend(title='Diagnosis')\n",
        "\n",
        "    plt.tight_layout()\n",
        "    plt.show()\n",
        "\n",
        "    # Return the grouped stats for further analysis\n",
        "    return grouped_std, grouped_cv\n",
        "\n",
        "# Compare dispersion for selected features\n",
        "group_std, group_cv = compare_dispersion_by_diagnosis(cancer_data, numerical_features)\n",
        "print(\"Standard deviation values by diagnosis group:\")\n",
        "print(group_std)\n",
        "print(\"\\nCoefficient of Variation values by diagnosis group:\")\n",
        "print(group_cv)\n",
        "print(\"\\nObservation: Notice how variability differs between benign and malignant tumors.\")\n",
        "print(\"Higher variability in one group might indicate less predictable or more diverse cellular characteristics.\")\n"
      ],
      "metadata": {
        "id": "qUgOyd-N6VLY"
      },
      "execution_count": null,
      "outputs": []
    },
    {
      "cell_type": "markdown",
      "source": [
        "# Advanced Data Visualization"
      ],
      "metadata": {
        "id": "wAydlqiI6WzB"
      }
    },
    {
      "cell_type": "code",
      "source": [
        "# Convert diagnosis to numeric for correlation analysis\n",
        "cancer_data['Diagnosis_Numeric'] = cancer_data['Diagnosis'].map({'M': 1, 'B': 0})\n",
        "\n",
        "# Select features for visualization\n",
        "visualization_features = ['radius_mean', 'texture_mean', 'perimeter_mean', 'area_mean', 'smoothness_mean', 'Diagnosis_Numeric']\n",
        "\n",
        "# Create a correlation matrix\n",
        "correlation_matrix = cancer_data[visualization_features].corr()\n",
        "\n",
        "# Create a heatmap of correlations\n",
        "plt.figure(figsize=(10, 8))\n",
        "sns.heatmap(correlation_matrix, annot=True, cmap='coolwarm', fmt=\".2f\",\n",
        "            xticklabels=visualization_features,\n",
        "            yticklabels=visualization_features)\n",
        "plt.title('Correlation Matrix of Selected Features')\n",
        "plt.tight_layout()\n",
        "plt.show()\n",
        "\n",
        "print(\"Explanation of Correlation Matrix:\")\n",
        "print(\"The correlation matrix shows the relationship strength between variables.\")\n",
        "print(\"Values range from -1 to 1:\")\n",
        "print(\"  1: Perfect positive correlation (one increases, the other increases)\")\n",
        "print(\"  0: No linear correlation (no clear linear relationship)\")\n",
        "print(\" -1: Perfect negative correlation (one increases, the other decreases)\")\n",
        "print(\"\\nNotice which features correlate most strongly with diagnosis.\")"
      ],
      "metadata": {
        "id": "48AhOWhg6dnq"
      },
      "execution_count": null,
      "outputs": []
    },
    {
      "cell_type": "code",
      "source": [
        "# Create a pairplot to visualize relationships between features\n",
        "plt.figure(figsize=(16, 12))\n",
        "sns.pairplot(cancer_data[visualization_features],\n",
        "             hue='Diagnosis_Numeric',\n",
        "             palette={0: 'green', 1: 'red'},\n",
        "             hue_order=[0, 1])\n",
        "plt.suptitle('Pairplot of Selected Features by Diagnosis', y=1.02, fontsize=16)\n",
        "plt.show()\n",
        "\n",
        "print(\"Explanation of Pairplot:\")\n",
        "print(\"The pairplot shows relationships between pairs of variables and their distributions.\")\n",
        "print(\"Diagonal plots show the distribution of each variable.\")\n",
        "print(\"Off-diagonal plots show the relationship between two variables.\")\n",
        "print(\"Points are colored by diagnosis (green for benign, red for malignant).\")\n",
        "print(\"This helps identify potential patterns or clusters that differentiate between diagnoses.\")"
      ],
      "metadata": {
        "id": "npwmi9De6gP0"
      },
      "execution_count": null,
      "outputs": []
    },
    {
      "cell_type": "code",
      "source": [
        "# Advanced visualization: Box plots with swarm plots\n",
        "plt.figure(figsize=(15, 10))\n",
        "for i, feature in enumerate(numerical_features, 1):\n",
        "    plt.subplot(2, 3, i)\n",
        "    # Combine boxplot and swarmplot for a richer visualization\n",
        "    sns.boxplot(x='Diagnosis', y=feature, data=cancer_data, palette={'M': 'red', 'B': 'blue'})\n",
        "    sns.swarmplot(x='Diagnosis', y=feature, data=cancer_data, color='black', alpha=0.5, size=3)\n",
        "    plt.title(f'Distribution of {feature} by Diagnosis')\n",
        "    plt.xlabel('Diagnosis (M=Malignant, B=Benign)')\n",
        "    plt.ylabel(feature)\n",
        "\n",
        "plt.tight_layout()\n",
        "plt.suptitle('Box Plots with Data Points for Selected Features', y=1.02, fontsize=16)\n",
        "plt.show()\n",
        "\n",
        "print(\"Explanation of Box Plots with Swarm Plots:\")\n",
        "print(\"Box plots show the median (middle line), quartiles (box), and range (whiskers) of each group.\")\n",
        "print(\"The overlaid points show the actual distribution of individual observations.\")\n",
        "print(\"This combination helps visualize both the summary statistics and the full data distribution.\")\n",
        "print(\"We can observe differences in both central tendency and dispersion between benign and malignant tumors.\")"
      ],
      "metadata": {
        "id": "Yx989vhp6iLI"
      },
      "execution_count": null,
      "outputs": []
    },
    {
      "cell_type": "code",
      "source": [
        "# Violin plots for comparing distributions\n",
        "plt.figure(figsize=(15, 10))\n",
        "for i, feature in enumerate(numerical_features, 1):\n",
        "    plt.subplot(2, 3, i)\n",
        "    sns.violinplot(x='Diagnosis', y=feature, data=cancer_data, palette={'M': 'red', 'B': 'blue'}, inner='quartile')\n",
        "    plt.title(f'Violin Plot of {feature} by Diagnosis')\n",
        "    plt.xlabel('Diagnosis (M=Malignant, B=Benign)')\n",
        "    plt.ylabel(feature)\n",
        "\n",
        "plt.tight_layout()\n",
        "plt.suptitle('Violin Plots for Selected Features', y=1.02, fontsize=16)\n",
        "plt.show()\n",
        "\n",
        "print(\"Explanation of Violin Plots:\")\n",
        "print(\"Violin plots combine box plots with density plots to show the distribution shape.\")\n",
        "print(\"Wider sections represent more frequent values, while narrower sections are less common.\")\n",
        "print(\"The white dot represents the median, the black box shows the interquartile range.\")\n",
        "print(\"These plots are excellent for comparing distributions between groups.\")\n",
        "print(\"Note the different shapes, which reveal how values are distributed for each diagnosis group.\")"
      ],
      "metadata": {
        "id": "YWNIrLah6k3O"
      },
      "execution_count": null,
      "outputs": []
    },
    {
      "cell_type": "markdown",
      "source": [
        "# Statistical Summary by Groups"
      ],
      "metadata": {
        "id": "ErUsbxBf8uTs"
      }
    },
    {
      "cell_type": "code",
      "source": [
        "# Group by diagnosis and calculate descriptive statistics\n",
        "grouped_stats = cancer_data.groupby('Diagnosis')[numerical_features].describe()\n",
        "\n",
        "print(\"Comprehensive Statistical Summary by Diagnosis:\")\n",
        "print(grouped_stats)"
      ],
      "metadata": {
        "id": "QTUn9Bfd6mP9"
      },
      "execution_count": null,
      "outputs": []
    },
    {
      "cell_type": "markdown",
      "source": [
        "Create a simplified and more readable summary"
      ],
      "metadata": {
        "id": "lWPQp7SsAoK-"
      }
    },
    {
      "cell_type": "code",
      "source": [
        "summary_dict = {}\n",
        "\n",
        "for feature in numerical_features:\n",
        "    # Calculate stats for benign\n",
        "    benign_stats = cancer_data[cancer_data['Diagnosis'] == 'B'][feature].agg(['mean', 'median', 'std', 'min', 'max']).to_dict()\n",
        "    # Calculate stats for malignant\n",
        "    malignant_stats = cancer_data[cancer_data['Diagnosis'] == 'M'][feature].agg(['mean', 'median', 'std', 'min', 'max']).to_dict()\n",
        "\n",
        "    # Add prefixes to distinguish the groups\n",
        "    benign_renamed = {f'Benign_{k}': v for k, v in benign_stats.items()}\n",
        "    malignant_renamed = {f'Malignant_{k}': v for k, v in malignant_stats.items()}\n",
        "\n",
        "    # Combine the stats\n",
        "    summary_dict[feature] = {**benign_renamed, **malignant_renamed}\n",
        "\n",
        "# Convert to dataframe\n",
        "simple_stats = pd.DataFrame(summary_dict).T\n",
        "\n",
        "print(\"\\nSimplified Statistical Summary (Features as Columns):\")\n",
        "print(simple_stats)\n",
        "\n",
        "print(\"\\nKey Observations from Group Comparisons:\")\n",
        "for feature in numerical_features:\n",
        "    b_mean = cancer_data[cancer_data['Diagnosis'] == 'B'][feature].mean()\n",
        "    m_mean = cancer_data[cancer_data['Diagnosis'] == 'M'][feature].mean()\n",
        "\n",
        "    percent_diff = abs((m_mean - b_mean) / b_mean) * 100\n",
        "\n",
        "    if m_mean > b_mean:\n",
        "        comparison = \"higher\"\n",
        "    else:\n",
        "        comparison = \"lower\"\n",
        "\n",
        "    print(f\"For {feature}, malignant tumors have {comparison} values (by {percent_diff:.1f}%) than benign tumors.\")\n"
      ],
      "metadata": {
        "id": "Ht121FJO83l1"
      },
      "execution_count": null,
      "outputs": []
    },
    {
      "cell_type": "markdown",
      "source": [
        "# Non-Normal Data and Outliers"
      ],
      "metadata": {
        "id": "SlEmqkIy9A-U"
      }
    },
    {
      "cell_type": "code",
      "source": [
        "# Function to check for normality visually and with Shapiro-Wilk test\n",
        "def check_normality(data, column):\n",
        "    \"\"\"Check if data follows a normal distribution using QQ-plot and Shapiro-Wilk test.\"\"\"\n",
        "    values = data[column]\n",
        "\n",
        "    # Create a figure with QQ-plot\n",
        "    plt.figure(figsize=(12, 5))\n",
        "\n",
        "    plt.subplot(1, 2, 1)\n",
        "    stats.probplot(values, dist=\"norm\", plot=plt)\n",
        "    plt.title(f'Q-Q Plot for {column}')\n",
        "\n",
        "    plt.subplot(1, 2, 2)\n",
        "    sns.histplot(values, kde=True)\n",
        "    plt.title(f'Distribution of {column}')\n",
        "\n",
        "    plt.tight_layout()\n",
        "    plt.show()\n",
        "\n",
        "    # Perform Shapiro-Wilk test for normality\n",
        "    statistic, p_value = stats.shapiro(values)\n",
        "\n",
        "    print(f\"Normality check for {column}:\")\n",
        "    print(f\"Shapiro-Wilk test: statistic = {statistic:.4f}, p-value = {p_value:.8f}\")\n",
        "\n",
        "    if p_value < 0.05:\n",
        "        print(\"The data significantly deviates from a normal distribution (p < 0.05).\")\n",
        "    else:\n",
        "        print(\"The data appears to follow a normal distribution (p >= 0.05).\")\n",
        "\n",
        "    # Calculate skewness and kurtosis\n",
        "    skewness = stats.skew(values)\n",
        "    kurtosis = stats.kurtosis(values)\n",
        "\n",
        "    print(f\"Skewness: {skewness:.4f}\")\n",
        "    if abs(skewness) < 0.5:\n",
        "        print(\"  The distribution is approximately symmetric.\")\n",
        "    elif skewness > 0.5:\n",
        "        print(\"  The distribution is right-skewed (positively skewed).\")\n",
        "    else:  # skewness < -0.5\n",
        "        print(\"  The distribution is left-skewed (negatively skewed).\")\n",
        "\n",
        "    print(f\"Kurtosis: {kurtosis:.4f}\")\n",
        "    if abs(kurtosis) < 0.5:\n",
        "        print(\"  The distribution has a similar tail weight as the normal distribution.\")\n",
        "    elif kurtosis > 0.5:\n",
        "        print(\"  The distribution is leptokurtic (heavier tails, more outliers than normal).\")\n",
        "    else:  # kurtosis < -0.5\n",
        "        print(\"  The distribution is platykurtic (lighter tails, fewer outliers than normal).\")\n",
        "    print(\"\\n\")\n",
        "\n",
        "# Check normality for the first 3 features\n",
        "for feature in numerical_features[:3]:\n",
        "    check_normality(cancer_data, feature)\n"
      ],
      "metadata": {
        "id": "5AkJdI8O9CVE"
      },
      "execution_count": null,
      "outputs": []
    },
    {
      "cell_type": "code",
      "execution_count": null,
      "metadata": {
        "id": "AUnEokjuslZk"
      },
      "outputs": [],
      "source": [
        "\n",
        "# Outlier detection and visualization\n",
        "def detect_outliers(data, column):\n",
        "    \"\"\"Detect and visualize outliers using the IQR method.\"\"\"\n",
        "    values = data[column]\n",
        "\n",
        "    # Calculate Q1, Q3, and IQR\n",
        "    q1 = values.quantile(0.25)\n",
        "    q3 = values.quantile(0.75)\n",
        "    iqr = q3 - q1\n",
        "\n",
        "    # Define outlier boundaries\n",
        "    lower_bound = q1 - 1.5 * iqr\n",
        "    upper_bound = q3 + 1.5 * iqr\n",
        "\n",
        "    # Find outliers\n",
        "    outliers = values[(values < lower_bound) | (values > upper_bound)]\n",
        "\n",
        "    print(f\"Outlier detection for {column}:\")\n",
        "    print(f\"Number of outliers: {len(outliers)}\")\n",
        "    print(f\"Percentage of outliers: {(len(outliers) / len(values)) * 100:.2f}%\")\n",
        "    print(f\"Outlier boundaries: Lower = {lower_bound:.4f}, Upper = {upper_bound:.4f}\")\n",
        "\n",
        "    if len(outliers) > 0:\n",
        "        print(\"Outlier values:\")\n",
        "        print(outliers.values)\n",
        "\n",
        "    # Visualize with box plot\n",
        "    plt.figure(figsize=(12, 6))\n",
        "\n",
        "    plt.subplot(1, 2, 1)\n",
        "    sns.boxplot(y=values)\n",
        "    plt.title(f'Box Plot of {column} Showing Outliers')\n",
        "    plt.ylabel('Value')\n",
        "\n",
        "    plt.subplot(1, 2, 2)\n",
        "    sns.histplot(values, kde=True)\n",
        "    plt.axvline(lower_bound, color='r', linestyle='--', label=f'Lower bound: {lower_bound:.2f}')\n",
        "    plt.axvline(upper_bound, color='r', linestyle='--', label=f'Upper bound: {upper_bound:.2f}')\n",
        "    plt.title(f'Distribution of {column} with Outlier Boundaries')\n",
        "    plt.legend()\n",
        "\n",
        "    plt.tight_layout()\n",
        "    plt.show()\n",
        "\n",
        "    # Return the outliers\n",
        "    return outliers\n",
        "\n",
        "# Detect outliers for each feature\n",
        "for feature in numerical_features:\n",
        "    outliers = detect_outliers(cancer_data, feature)\n",
        "\n"
      ]
    },
    {
      "cell_type": "markdown",
      "source": [
        "Next tutorial preview: <br>\n",
        "Understanding Data Distributions: <p>\n",
        "We'll dive deeper into normal vs. non-normal distributions techniques for testing normality, and data transformation methods using the Wine Quality dataset."
      ],
      "metadata": {
        "id": "b2Lk7oOY8FLR"
      }
    }
  ]
}