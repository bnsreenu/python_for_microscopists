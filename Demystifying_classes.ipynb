{
  "nbformat": 4,
  "nbformat_minor": 0,
  "metadata": {
    "colab": {
      "provenance": [],
      "include_colab_link": true
    },
    "kernelspec": {
      "name": "python3",
      "display_name": "Python 3"
    },
    "language_info": {
      "name": "python"
    }
  },
  "cells": [
    {
      "cell_type": "markdown",
      "metadata": {
        "id": "view-in-github",
        "colab_type": "text"
      },
      "source": [
        "<a href=\"https://colab.research.google.com/github/bnsreenu/python_for_microscopists/blob/master/Demystifying_classes.ipynb\" target=\"_parent\"><img src=\"https://colab.research.google.com/assets/colab-badge.svg\" alt=\"Open In Colab\"/></a>"
      ]
    },
    {
      "cell_type": "markdown",
      "source": [
        "https://youtu.be/3gZAU5LOL2Q"
      ],
      "metadata": {
        "id": "v0ChviMsVOXE"
      }
    },
    {
      "cell_type": "markdown",
      "source": [
        "##Why do we need classes if we can use functions?\n",
        "###**Python classes demystified**\n",
        "\n",
        "### Let us start by looking at just functions....\n",
        "\n",
        "Why even use classes if we get the job done using functions?"
      ],
      "metadata": {
        "id": "LsxF5kg-JGnw"
      }
    },
    {
      "cell_type": "code",
      "source": [
        "# Just variables and functions\n",
        "def print_student(name, age, grade):\n",
        "    print(f\"Name: {name}\")\n",
        "    print(f\"Age: {age}\")\n",
        "    print(f\"Grade: {grade}\")\n",
        "    print(\"=\"*20)\n",
        "\n",
        "# Student 1\n",
        "student1_name = \"Alice\"\n",
        "student1_age = 14\n",
        "student1_grade = \"A\"\n",
        "\n",
        "print_student(student1_name, student1_age, student1_grade)\n",
        "\n",
        "# Student 2\n",
        "student2_name = \"Bob\"\n",
        "student2_age = 15\n",
        "student2_grade = \"B\"\n",
        "\n",
        "print_student(student2_name, student2_age, student2_grade)\n"
      ],
      "metadata": {
        "id": "Pu_8IKs7JB8X"
      },
      "execution_count": null,
      "outputs": []
    },
    {
      "cell_type": "markdown",
      "source": [
        "It works… but feels clumsy.\n",
        "\n",
        "- We have to keep track of three separate variables per student.\n",
        "- If a student has 5+ attributes, it becomes a mess.\n",
        "- Functions take a lot of parameters, which is error-prone."
      ],
      "metadata": {
        "id": "q6nrCywdJmLZ"
      }
    },
    {
      "cell_type": "markdown",
      "source": [
        "## Group Data Using a Dictionary\n",
        "\n"
      ],
      "metadata": {
        "id": "aXw3oVXgJrfs"
      }
    },
    {
      "cell_type": "code",
      "source": [
        "def print_student(student):\n",
        "    print(f\"Name: {student['name']}\")\n",
        "    print(f\"Age: {student['age']}\")\n",
        "    print(f\"Grade: {student['grade']}\")\n",
        "\n",
        "student1 = {\"name\": \"Alice\", \"age\": 14, \"grade\": \"A\"}\n",
        "student2 = {\"name\": \"Bob\", \"age\": 15, \"grade\": \"B\"}\n",
        "\n",
        "print_student(student1)\n",
        "print_student(student2)\n"
      ],
      "metadata": {
        "id": "MP2yHgs3Jnsn"
      },
      "execution_count": null,
      "outputs": []
    },
    {
      "cell_type": "markdown",
      "source": [
        "Dictionaries help group related info.\n",
        "\n",
        "But what if we want actions tied to a student (e.g., update grade)?\n",
        "\n",
        "We’d still have to write separate functions and pass the student dict each time."
      ],
      "metadata": {
        "id": "TaWsXhO2K9-Z"
      }
    },
    {
      "cell_type": "code",
      "source": [
        "# Function to print student info\n",
        "def print_student(student):\n",
        "    print(f\"Name: {student['name']}\")\n",
        "    print(f\"Age: {student['age']}\")\n",
        "    print(f\"Grade: {student['grade']}\")\n",
        "\n",
        "# Function to update student grade\n",
        "def update_grade(student, new_grade):\n",
        "    student['grade'] = new_grade\n",
        "\n",
        "# Student dictionaries\n",
        "student1 = {\"name\": \"Alice\", \"age\": 14, \"grade\": \"A\"}\n",
        "student2 = {\"name\": \"Bob\", \"age\": 15, \"grade\": \"B\"}\n",
        "\n",
        "# Printing students\n",
        "print_student(student1)\n",
        "print_student(student2)\n",
        "\n",
        "# Updating a grade\n",
        "update_grade(student2, \"A+\")\n",
        "print_student(student2)\n"
      ],
      "metadata": {
        "id": "P7W75nMEK-rI"
      },
      "execution_count": null,
      "outputs": []
    },
    {
      "cell_type": "markdown",
      "source": [
        "## The Need for “Objects”\n",
        "\n",
        "Imagine if the student knew how to print itself and update its own grade, then we wouldn’t have to write separate functions and pass the student data every time.\n",
        "\n",
        "This is where classes come in, they let us combine data and behavior."
      ],
      "metadata": {
        "id": "Z0fndwq-J2-A"
      }
    },
    {
      "cell_type": "markdown",
      "source": [
        "### class with Just Data\n",
        "\n",
        "class defines a blueprint.\n",
        "\n",
        "**\\__init__ — The Constructor**\n",
        "\n",
        "- Think of a class as a blueprint (like a recipe for baking a cake).\n",
        "- When you make an object from a class (e.g., Student(\"Alice\", 14, \"A\")), Python automatically calls a special function named \\__init__.\n",
        "- \\__init__ is like the setup step:\n",
        "    - It takes the information you give (\"Alice\", 14, \"A\") and stores it inside the object.\n",
        "    - It runs only once, right when the object is created.\n",
        "\n",
        "- You can remember it as:\n",
        "\n",
        "  “\\__init__ = initialize the object with the starting data.”\n",
        "\n",
        "***self:***\n",
        "\n",
        "self is a conventional name for the first parameter of any instance method, including the \\__init__ constructor. It refers to the specific instance (object) of the class on which the method is being called."
      ],
      "metadata": {
        "id": "WwvhkYMLKCtt"
      }
    },
    {
      "cell_type": "code",
      "source": [
        "class Student:\n",
        "    def __init__(self, name, age, grade):\n",
        "      # This code runs as soon as a Student is created\n",
        "        self.name = name    # data belongs to this specific object\n",
        "        self.age = age\n",
        "        self.grade = grade\n",
        "\n",
        "student1 = Student(\"Alice\", 14, \"A\")  # <-- __init__ runs here automatically\n",
        "student2 = Student(\"Bob\", 15, \"B\")  # <-- __init__ runs here automatically\n",
        "\n",
        "print(student1.name, student1.age, student1.grade)\n",
        "print(student2.name, student2.age, student2.grade)\n"
      ],
      "metadata": {
        "id": "C0xDBWK6KE9b"
      },
      "execution_count": null,
      "outputs": []
    },
    {
      "cell_type": "markdown",
      "source": [
        "### Adding Behavior to class (Methods)\n",
        "\n",
        "Well, earlier when we looked at the dictionary approach, we realized that updating grade needed us to separate the update_grade() function. We must always pass the dictionary into the function. Let us see how this can be a bit easier, with methods in a class.\n",
        "\n",
        "**Methods are functions inside a class.**\n",
        "\n",
        "- They automatically get self as the first argument (so they can access the object’s data).\n",
        "- Now each student object carries both data and actions.\n",
        "- Adding a new student is one line instead of multiple variables.\n",
        "- Actions are neatly tied to each student.\n",
        "- Code is more organized, reusable, and readable."
      ],
      "metadata": {
        "id": "kEPYuepkKMPG"
      }
    },
    {
      "cell_type": "code",
      "source": [
        "#Dictionary version recap\n",
        "# Dictionary student\n",
        "student1 = {\"name\": \"Alice\", \"age\": 14, \"grade\": \"A\"}\n",
        "\n",
        "# Function to update a grade\n",
        "def update_grade(student, new_grade):\n",
        "    student[\"grade\"] = new_grade\n",
        "\n",
        "# To update grade\n",
        "update_grade(student1, \"A+\")  # <-- we must always pass the dictionary into the function\n",
        "print(student1)\n"
      ],
      "metadata": {
        "id": "rZX7i5VWNfPo"
      },
      "execution_count": null,
      "outputs": []
    },
    {
      "cell_type": "markdown",
      "source": [
        "With class - no more functions floating around (outside the class). You don;t need to pass the student into a function - just tell the student to do it."
      ],
      "metadata": {
        "id": "kYsp1abzOLPv"
      }
    },
    {
      "cell_type": "code",
      "source": [
        "class Student:\n",
        "    def __init__(self, name, age, grade):\n",
        "        self.name = name\n",
        "        self.age = age\n",
        "        self.grade = grade\n",
        "\n",
        "    def update_grade(self, new_grade):\n",
        "        self.grade = new_grade\n",
        "\n",
        "student1 = Student(\"Alice\", 14, \"A\")\n",
        "student2 = Student(\"Bob\", 15, \"B\")\n",
        "\n",
        "# Updating is now simple and tied to the object\n",
        "student1.update_grade(\"A+\")\n",
        "student2.update_grade(\"B+\")\n",
        "\n",
        "print(student1.name, student1.grade)  # Alice A+\n",
        "print(student2.name, student2.grade)  # Bob B+\n"
      ],
      "metadata": {
        "id": "KkCvh7BsNzYw"
      },
      "execution_count": null,
      "outputs": []
    },
    {
      "cell_type": "code",
      "source": [
        "# We can even include print statements within the class.\n",
        "class Student:\n",
        "    def __init__(self, name, age, grade):\n",
        "        self.name = name\n",
        "        self.age = age\n",
        "        self.grade = grade\n",
        "\n",
        "    def print_info(self):\n",
        "        print(f\"Name: {self.name}\")\n",
        "        print(f\"Age: {self.age}\")\n",
        "        print(f\"Grade: {self.grade}\")\n",
        "\n",
        "    def update_grade(self, new_grade):\n",
        "        self.grade = new_grade\n",
        "\n",
        "student1 = Student(\"Alice\", 14, \"A\")\n",
        "student2 = Student(\"Bob\", 15, \"B\")\n",
        "\n",
        "student1.print_info()\n",
        "student2.print_info()\n",
        "\n",
        "student2.update_grade(\"A+\")\n",
        "student2.print_info()\n"
      ],
      "metadata": {
        "id": "cuqeAVtgKO7j"
      },
      "execution_count": null,
      "outputs": []
    },
    {
      "cell_type": "markdown",
      "source": [
        "With the dictionary approach, every time you want to change something, you must find the right tool (function) and give it the object.\n",
        "\n",
        "With the class approach, the object brings its own tools, you just ask it to do the job."
      ],
      "metadata": {
        "id": "DzH9b1lyOlLO"
      }
    },
    {
      "cell_type": "markdown",
      "source": [
        "##Explaining it Simply\n",
        "- A class is like a toolbox for a certain type of object.\n",
        "\n",
        "- Inside the toolbox are functions (called methods) that know how to work with that object’s data.\n",
        "\n",
        "- When you have an object (like student1), you can pick the right tool (method) for the job:\n",
        "\n",
        "  - print_info() → print the student’s details\n",
        "\n",
        "  - update_grade() → change the student’s grade\n",
        "\n",
        "  - promote() → move the student to the next grade level\n",
        "\n",
        "**Key idea:**\n",
        "\n",
        "Instead of hunting for the right function and passing in the object (like we did with dictionaries),\n",
        "we just tell the object what we want it to do - and it uses the right method."
      ],
      "metadata": {
        "id": "EAyN2MxBPGfa"
      }
    },
    {
      "cell_type": "markdown",
      "source": [
        "### If you're still confused about ***self***\n",
        "\n",
        "Let’s start with what happens if we don’t use self:"
      ],
      "metadata": {
        "id": "frgESQLoPlPW"
      }
    },
    {
      "cell_type": "code",
      "source": [
        "class Student:\n",
        "    def __init__(self, name, age):\n",
        "        name = name    # No 'self.'\n",
        "        age = age   # No 'self.'\n",
        "\n",
        "student1 = Student(\"Alice\", 14)\n"
      ],
      "metadata": {
        "id": "nxV9Ya4xPxMy"
      },
      "execution_count": null,
      "outputs": []
    },
    {
      "cell_type": "code",
      "source": [
        "#Now try to do this....\n",
        "print(student1.name)"
      ],
      "metadata": {
        "id": "U5YIIWn5P2iv"
      },
      "execution_count": null,
      "outputs": []
    },
    {
      "cell_type": "markdown",
      "source": [
        "We got an error.\n",
        "\n",
        "### What ***self*** does\n",
        "\n",
        "When we write:\n",
        "\n",
        "self.name = name\n",
        "<br>\n",
        "self.age = age\n",
        "\n",
        "We are saying:\n",
        "\n",
        "- self.name → “store this in the object’s memory.”\n",
        "- name (on the right) → “the value that was passed into the function.”\n",
        "\n",
        "So self.name is a property that belongs to THIS specific object (like student1 or student2), and it will still exist after the function finishes.\n",
        "\n",
        "- Think of \\__init__ as filling out a personal profile card for each student.\n",
        "- Without self, you’re just writing their name on a scrap paper that gets thrown away.\n",
        "- With self, you’re writing their name inside their own profile card so you can look it up later."
      ],
      "metadata": {
        "id": "CcDdLgkyP63T"
      }
    },
    {
      "cell_type": "code",
      "source": [
        "class GoodStudent:\n",
        "    def __init__(self, name):\n",
        "        self.name = name\n",
        "\n",
        "class BadStudent:\n",
        "    def __init__(self, name):\n",
        "        name = name  # no self\n",
        "\n",
        "g = GoodStudent(\"Sreeni\")\n",
        "b = BadStudent(\"Sreeni\")\n",
        "\n",
        "print(g.name)   # Works: 'Sreeni'\n",
        "print(b.name)   # Fails: AttributeError\n"
      ],
      "metadata": {
        "id": "Nr2Dy9uVQpUv"
      },
      "execution_count": null,
      "outputs": []
    },
    {
      "cell_type": "markdown",
      "source": [
        "While ***self*** is the universally accepted convention for referring to the instance of a class, Python does not enforce this name. As long as the first parameter of an instance method accepts the object itself, the code will work, even if you rename it to something like ***svayam*** - Sanskrit for ***self***. However, deviating from this convention is highly discouraged, as it makes the code confusing and unreadable for other developers.\n",
        "\n",
        "Note that, the Python style guide (PEP 8) explicitly recommends using ***self*** for the first argument of instance methods for consistency and readability."
      ],
      "metadata": {
        "id": "pdiuq9j47Dug"
      }
    },
    {
      "cell_type": "code",
      "source": [
        "# Doesn't have to be self, but it is convention to use it.\n",
        "class Student:\n",
        "    def __init__(svayam, name, age, grade):\n",
        "        svayam.name = name\n",
        "        svayam.age = age\n",
        "        svayam.grade = grade\n",
        "\n",
        "    def print_info(svayam):\n",
        "        print(f\"Name: {svayam.name}\")\n",
        "        print(f\"Age: {svayam.age}\")\n",
        "        print(f\"Grade: {svayam.grade}\")\n",
        "\n",
        "    def update_grade(svayam, new_grade):\n",
        "        svayam.grade = new_grade\n",
        "\n",
        "student1 = Student(\"Alice\", 14, \"A\")\n",
        "student2 = Student(\"Bob\", 15, \"B\")\n",
        "\n",
        "student1.print_info()\n",
        "student2.print_info()\n",
        "\n",
        "student2.update_grade(\"A+\")\n",
        "student2.print_info()\n"
      ],
      "metadata": {
        "id": "PIem5N3r7Em2"
      },
      "execution_count": null,
      "outputs": []
    }
  ]
}